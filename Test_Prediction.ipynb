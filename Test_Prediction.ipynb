{
 "cells": [
  {
   "cell_type": "code",
   "execution_count": 101,
   "id": "ef8b40f1",
   "metadata": {},
   "outputs": [],
   "source": [
    "import yfinance as yf\n",
    "import pandas as pd\n",
    "import numpy as np\n",
    "import seaborn as sns\n",
    "import matplotlib.pyplot as plt\n",
    "from sklearn.model_selection import train_test_split\n",
    "from sklearn.preprocessing import PolynomialFeatures\n",
    "from sklearn.linear_model import LinearRegression\n",
    "from sklearn.metrics import mean_absolute_error,mean_squared_error,mean_absolute_percentage_error"
   ]
  },
  {
   "cell_type": "code",
   "execution_count": 102,
   "id": "a806c81b",
   "metadata": {},
   "outputs": [],
   "source": [
    "import joblib"
   ]
  },
  {
   "cell_type": "code",
   "execution_count": 103,
   "id": "3fee0311",
   "metadata": {},
   "outputs": [],
   "source": [
    "model = joblib.load(\"final_model.pkl\")"
   ]
  },
  {
   "cell_type": "code",
   "execution_count": 104,
   "id": "3207855e",
   "metadata": {},
   "outputs": [],
   "source": [
    "company = yf.Ticker('MSFT')"
   ]
  },
  {
   "cell_type": "code",
   "execution_count": 105,
   "id": "d33c0bef",
   "metadata": {},
   "outputs": [],
   "source": [
    "df = company.history(period='1mo',interval='15m')"
   ]
  },
  {
   "cell_type": "code",
   "execution_count": 106,
   "id": "c820bfd9",
   "metadata": {},
   "outputs": [],
   "source": [
    "t = []\n",
    "for i in range(len(df)):\n",
    "    if(df['Open'].iloc[i]-df['Close'].iloc[i]>0):\n",
    "        t.append(\"DOWN\")\n",
    "    else:\n",
    "        t.append(\"UP\")\n",
    "df['Trend']=t"
   ]
  },
  {
   "cell_type": "code",
   "execution_count": 107,
   "id": "98cfc5cf",
   "metadata": {},
   "outputs": [],
   "source": [
    "th=[0]\n",
    "current_trend = df['Trend'].iloc[0]\n",
    "count = 0\n",
    "for i in range(1,len(df)):\n",
    "    if(current_trend==df['Trend'].iloc[i]):\n",
    "        count+=1\n",
    "        th.append(count)\n",
    "    else:\n",
    "        count = 0\n",
    "        th.append(count)\n",
    "        current_trend = df['Trend'].iloc[i]\n",
    "        \n",
    "df[\"Trend history\"]=th"
   ]
  },
  {
   "cell_type": "code",
   "execution_count": 108,
   "id": "4dfc4a78",
   "metadata": {},
   "outputs": [],
   "source": [
    "p=[]\n",
    "v=[]\n",
    "if(df['Trend'].iloc[0]==\"DOWN\"):\n",
    "    peak = df['Open'].iloc[0]\n",
    "    valley = df['Close'].iloc[0]\n",
    "else:\n",
    "    valley = df['Open'].iloc[0]\n",
    "    peak = df['Close'].iloc[0]\n",
    "\n",
    "for i in range(0,len(df)):\n",
    "    \n",
    "    p.append(peak-df['Close'].iloc[i])\n",
    "    v.append(valley-df['Close'].iloc[i])\n",
    "    \n",
    "    if peak<df['Close'].iloc[i]:\n",
    "        peak = df['Close'].iloc[i]\n",
    "    if valley>df['Close'].iloc[i]:\n",
    "        valley = df['Close'].iloc[i]\n",
    "df['Change since last peak']=p\n",
    "df['Change since last drop']=v        "
   ]
  },
  {
   "cell_type": "code",
   "execution_count": 109,
   "id": "7b36ad0b",
   "metadata": {},
   "outputs": [],
   "source": [
    "c=[]\n",
    "cm=[]\n",
    "for i in range(0,len(df)):\n",
    "    \n",
    "    c.append(df['Open'].iloc[i]-df['Close'].iloc[i])\n",
    "    cm.append(df['High'].iloc[i]-df['Low'].iloc[i])\n",
    "    \n",
    "df['Local Change']=c\n",
    "df['Local range of stock price']=cm"
   ]
  },
  {
   "cell_type": "code",
   "execution_count": 110,
   "id": "05cea931",
   "metadata": {},
   "outputs": [],
   "source": [
    "df = pd.get_dummies(df,drop_first=True)"
   ]
  },
  {
   "cell_type": "code",
   "execution_count": 111,
   "id": "aef7bbee",
   "metadata": {},
   "outputs": [],
   "source": [
    "next_day_change = df['Local Change'][1:]"
   ]
  },
  {
   "cell_type": "code",
   "execution_count": 112,
   "id": "4eb71cd4",
   "metadata": {},
   "outputs": [],
   "source": [
    "df = df[1:]\n",
    "df[\"Next day prediction of change\"]=next_day_change"
   ]
  },
  {
   "cell_type": "code",
   "execution_count": 113,
   "id": "e6a2422e",
   "metadata": {},
   "outputs": [],
   "source": [
    "X = df.drop(['Next day prediction of change'],axis=1)\n",
    "y = df[\"Next day prediction of change\"]"
   ]
  },
  {
   "cell_type": "code",
   "execution_count": 114,
   "id": "3443f88b",
   "metadata": {},
   "outputs": [],
   "source": [
    "polynomial_converter = PolynomialFeatures(degree=2,include_bias=False)\n",
    "poly_features = polynomial_converter.fit_transform(X)\n",
    "\n",
    "pred = model.predict(poly_features)\n",
    "\n",
    "test_RMSE = mean_absolute_percentage_error(y,pred)"
   ]
  },
  {
   "cell_type": "code",
   "execution_count": 115,
   "id": "ff3482f9",
   "metadata": {},
   "outputs": [
    {
     "data": {
      "text/plain": [
       "107288703.14868754"
      ]
     },
     "execution_count": 115,
     "metadata": {},
     "output_type": "execute_result"
    }
   ],
   "source": [
    "test_RMSE"
   ]
  },
  {
   "cell_type": "code",
   "execution_count": null,
   "id": "de729c94",
   "metadata": {},
   "outputs": [],
   "source": []
  }
 ],
 "metadata": {
  "kernelspec": {
   "display_name": "Python 3 (ipykernel)",
   "language": "python",
   "name": "python3"
  },
  "language_info": {
   "codemirror_mode": {
    "name": "ipython",
    "version": 3
   },
   "file_extension": ".py",
   "mimetype": "text/x-python",
   "name": "python",
   "nbconvert_exporter": "python",
   "pygments_lexer": "ipython3",
   "version": "3.10.9"
  }
 },
 "nbformat": 4,
 "nbformat_minor": 5
}
