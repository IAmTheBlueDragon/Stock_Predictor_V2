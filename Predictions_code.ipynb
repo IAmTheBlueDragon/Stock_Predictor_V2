{
 "cells": [
  {
   "cell_type": "code",
   "execution_count": 6,
   "id": "65bfb0c9",
   "metadata": {},
   "outputs": [],
   "source": [
    "from Prediction import *"
   ]
  },
  {
   "cell_type": "code",
   "execution_count": 7,
   "id": "3a03f8c2",
   "metadata": {},
   "outputs": [],
   "source": [
    "from Time_Series_Analysis import *"
   ]
  },
  {
   "cell_type": "code",
   "execution_count": 8,
   "id": "28097210",
   "metadata": {},
   "outputs": [],
   "source": [
    "def new_data(stock):\n",
    "    create_model(stock)\n",
    "    create_new(stock)"
   ]
  },
  {
   "cell_type": "code",
   "execution_count": 9,
   "id": "f8af6ee7",
   "metadata": {},
   "outputs": [],
   "source": [
    "def existing_data(stock):\n",
    "    predict_model(stock)\n",
    "    new = latest_prediction(stock)\n",
    "    print(new)"
   ]
  }
 ],
 "metadata": {
  "kernelspec": {
   "display_name": "Python 3 (ipykernel)",
   "language": "python",
   "name": "python3"
  },
  "language_info": {
   "codemirror_mode": {
    "name": "ipython",
    "version": 3
   },
   "file_extension": ".py",
   "mimetype": "text/x-python",
   "name": "python",
   "nbconvert_exporter": "python",
   "pygments_lexer": "ipython3",
   "version": "3.10.6"
  }
 },
 "nbformat": 4,
 "nbformat_minor": 5
}
